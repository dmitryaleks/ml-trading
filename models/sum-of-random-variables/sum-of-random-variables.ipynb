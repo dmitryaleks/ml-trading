{
 "cells": [
  {
   "cell_type": "markdown",
   "metadata": {},
   "source": [
    "# Distribution of a sum of miltiple random variables with same distribution"
   ]
  },
  {
   "cell_type": "code",
   "execution_count": 6,
   "metadata": {},
   "outputs": [
    {
     "name": "stderr",
     "output_type": "stream",
     "text": [
      "UsageError: Line magic function `%` not found.\n"
     ]
    }
   ],
   "source": [
    "import pandas as pd\n",
    "import numpy as np\n",
    "from scipy.stats import norm\n",
    "import  matplotlib.pyplot as plt\n",
    "% matplotlib inline"
   ]
  },
  {
   "cell_type": "code",
   "execution_count": 60,
   "metadata": {},
   "outputs": [
    {
     "name": "stdout",
     "output_type": "stream",
     "text": [
      "Distribution of input variables in N(mu=1.0, std=2.0)\n"
     ]
    }
   ],
   "source": [
    "source_mu = 1.0\n",
    "source_std = 2.0\n",
    "sample_size = 100000\n",
    "print(f'Distribution of input variables in N(mu={source_mu}, std={source_std})')"
   ]
  },
  {
   "cell_type": "code",
   "execution_count": 61,
   "metadata": {},
   "outputs": [],
   "source": [
    "def get_random_normal_sample(mu, std, size):\n",
    "    return np.random.normal(mu, std, size = size)"
   ]
  },
  {
   "cell_type": "code",
   "execution_count": 62,
   "metadata": {},
   "outputs": [
    {
     "data": {
      "text/html": [
       "<div>\n",
       "<style scoped>\n",
       "    .dataframe tbody tr th:only-of-type {\n",
       "        vertical-align: middle;\n",
       "    }\n",
       "\n",
       "    .dataframe tbody tr th {\n",
       "        vertical-align: top;\n",
       "    }\n",
       "\n",
       "    .dataframe thead th {\n",
       "        text-align: right;\n",
       "    }\n",
       "</style>\n",
       "<table border=\"1\" class=\"dataframe\">\n",
       "  <thead>\n",
       "    <tr style=\"text-align: right;\">\n",
       "      <th></th>\n",
       "      <th>a</th>\n",
       "      <th>b</th>\n",
       "      <th>c</th>\n",
       "    </tr>\n",
       "  </thead>\n",
       "  <tbody>\n",
       "    <tr>\n",
       "      <th>count</th>\n",
       "      <td>100000.000000</td>\n",
       "      <td>100000.000000</td>\n",
       "      <td>100000.000000</td>\n",
       "    </tr>\n",
       "    <tr>\n",
       "      <th>mean</th>\n",
       "      <td>0.983327</td>\n",
       "      <td>1.000752</td>\n",
       "      <td>1.002234</td>\n",
       "    </tr>\n",
       "    <tr>\n",
       "      <th>std</th>\n",
       "      <td>2.003054</td>\n",
       "      <td>2.003126</td>\n",
       "      <td>1.998659</td>\n",
       "    </tr>\n",
       "    <tr>\n",
       "      <th>min</th>\n",
       "      <td>-7.481044</td>\n",
       "      <td>-8.047781</td>\n",
       "      <td>-7.521372</td>\n",
       "    </tr>\n",
       "    <tr>\n",
       "      <th>25%</th>\n",
       "      <td>-0.376823</td>\n",
       "      <td>-0.350403</td>\n",
       "      <td>-0.346613</td>\n",
       "    </tr>\n",
       "    <tr>\n",
       "      <th>50%</th>\n",
       "      <td>0.986533</td>\n",
       "      <td>1.005666</td>\n",
       "      <td>1.002037</td>\n",
       "    </tr>\n",
       "    <tr>\n",
       "      <th>75%</th>\n",
       "      <td>2.345701</td>\n",
       "      <td>2.345072</td>\n",
       "      <td>2.361477</td>\n",
       "    </tr>\n",
       "    <tr>\n",
       "      <th>max</th>\n",
       "      <td>9.922039</td>\n",
       "      <td>9.718275</td>\n",
       "      <td>10.005259</td>\n",
       "    </tr>\n",
       "  </tbody>\n",
       "</table>\n",
       "</div>"
      ],
      "text/plain": [
       "                   a              b              c\n",
       "count  100000.000000  100000.000000  100000.000000\n",
       "mean        0.983327       1.000752       1.002234\n",
       "std         2.003054       2.003126       1.998659\n",
       "min        -7.481044      -8.047781      -7.521372\n",
       "25%        -0.376823      -0.350403      -0.346613\n",
       "50%         0.986533       1.005666       1.002037\n",
       "75%         2.345701       2.345072       2.361477\n",
       "max         9.922039       9.718275      10.005259"
      ]
     },
     "execution_count": 62,
     "metadata": {},
     "output_type": "execute_result"
    }
   ],
   "source": [
    "data = pd.DataFrame({'a':get_random_normal_sample(source_mu, source_std, sample_size),\n",
    "                    'b':get_random_normal_sample(source_mu, source_std, sample_size),\n",
    "                    'c':get_random_normal_sample(source_mu, source_std, sample_size)})\n",
    "data.describe()"
   ]
  },
  {
   "cell_type": "code",
   "execution_count": 63,
   "metadata": {},
   "outputs": [
    {
     "data": {
      "text/html": [
       "<div>\n",
       "<style scoped>\n",
       "    .dataframe tbody tr th:only-of-type {\n",
       "        vertical-align: middle;\n",
       "    }\n",
       "\n",
       "    .dataframe tbody tr th {\n",
       "        vertical-align: top;\n",
       "    }\n",
       "\n",
       "    .dataframe thead th {\n",
       "        text-align: right;\n",
       "    }\n",
       "</style>\n",
       "<table border=\"1\" class=\"dataframe\">\n",
       "  <thead>\n",
       "    <tr style=\"text-align: right;\">\n",
       "      <th></th>\n",
       "      <th>a</th>\n",
       "      <th>b</th>\n",
       "      <th>c</th>\n",
       "    </tr>\n",
       "  </thead>\n",
       "  <tbody>\n",
       "    <tr>\n",
       "      <th>0</th>\n",
       "      <td>-0.630343</td>\n",
       "      <td>0.266962</td>\n",
       "      <td>-2.733478</td>\n",
       "    </tr>\n",
       "    <tr>\n",
       "      <th>1</th>\n",
       "      <td>2.772858</td>\n",
       "      <td>3.022727</td>\n",
       "      <td>2.024432</td>\n",
       "    </tr>\n",
       "    <tr>\n",
       "      <th>2</th>\n",
       "      <td>-1.252920</td>\n",
       "      <td>5.091925</td>\n",
       "      <td>2.054776</td>\n",
       "    </tr>\n",
       "    <tr>\n",
       "      <th>3</th>\n",
       "      <td>-1.288893</td>\n",
       "      <td>2.539933</td>\n",
       "      <td>3.805420</td>\n",
       "    </tr>\n",
       "    <tr>\n",
       "      <th>4</th>\n",
       "      <td>2.404254</td>\n",
       "      <td>6.598149</td>\n",
       "      <td>-0.843668</td>\n",
       "    </tr>\n",
       "  </tbody>\n",
       "</table>\n",
       "</div>"
      ],
      "text/plain": [
       "          a         b         c\n",
       "0 -0.630343  0.266962 -2.733478\n",
       "1  2.772858  3.022727  2.024432\n",
       "2 -1.252920  5.091925  2.054776\n",
       "3 -1.288893  2.539933  3.805420\n",
       "4  2.404254  6.598149 -0.843668"
      ]
     },
     "execution_count": 63,
     "metadata": {},
     "output_type": "execute_result"
    }
   ],
   "source": [
    "data.head()"
   ]
  },
  {
   "cell_type": "code",
   "execution_count": 102,
   "metadata": {},
   "outputs": [
    {
     "data": {
      "text/plain": [
       "count    100000.000000\n",
       "mean          2.986313\n",
       "std           3.471663\n",
       "min         -11.940658\n",
       "25%           0.653154\n",
       "50%           2.993369\n",
       "75%           5.331826\n",
       "max          18.117519\n",
       "dtype: float64"
      ]
     },
     "execution_count": 102,
     "metadata": {},
     "output_type": "execute_result"
    }
   ],
   "source": [
    "# define a new random variable - a sum of three input random variables\n",
    "sum = data.T.sum()\n",
    "sum.describe()"
   ]
  },
  {
   "cell_type": "code",
   "execution_count": 120,
   "metadata": {},
   "outputs": [
    {
     "name": "stdout",
     "output_type": "stream",
     "text": [
      "Mean of the sum of three random variables is: 3.04 times higher than mean of distributions underlying varibales\n"
     ]
    }
   ],
   "source": [
    "print(f\"Mean of the sum of three random variables is: {(sum.mean()/data['a'].mean()):.2f} times higher than mean of distributions underlying varibales\")"
   ]
  },
  {
   "cell_type": "code",
   "execution_count": 118,
   "metadata": {},
   "outputs": [
    {
     "name": "stdout",
     "output_type": "stream",
     "text": [
      "Variance of the sum of three random variables is: 3.00 times higher than variance of distributions of underlying variables\n"
     ]
    }
   ],
   "source": [
    "print(f\"Variance of the sum of three random variables is: {(sum.var()/data['a'].var()):.2f} times higher than variance of distributions of underlying variables\")"
   ]
  },
  {
   "cell_type": "code",
   "execution_count": 124,
   "metadata": {},
   "outputs": [
    {
     "data": {
      "text/plain": [
       "Text(0.5, 1.0, 'Distribution of a sum of three identiacally distributed random variables')"
      ]
     },
     "execution_count": 124,
     "metadata": {},
     "output_type": "execute_result"
    },
    {
     "data": {
      "image/png": "[encoded data removed]",
      "text/plain": [
       "<Figure size 432x288 with 1 Axes>"
      ]
     },
     "metadata": {
      "needs_background": "light"
     },
     "output_type": "display_data"
    }
   ],
   "source": [
    "ax = sum.hist(bins=100, color = 'green', alpha=0.5, label='sum(a,b,c)')\n",
    "data['a'].hist(bins=100, color = 'orange', alpha=0.5, label='a')\n",
    "plt.legend()\n",
    "plt.title('Distribution of a sum of three identiacally distributed random variables')"
   ]
  }
 ],
 "metadata": {
  "kernelspec": {
   "display_name": "Python 3",
   "language": "python",
   "name": "python3"
  },
  "language_info": {
   "codemirror_mode": {
    "name": "ipython",
    "version": 3
   },
   "file_extension": ".py",
   "mimetype": "text/x-python",
   "name": "python",
   "nbconvert_exporter": "python",
   "pygments_lexer": "ipython3",
   "version": "3.7.1"
  }
 },
 "nbformat": 4,
 "nbformat_minor": 2
}
